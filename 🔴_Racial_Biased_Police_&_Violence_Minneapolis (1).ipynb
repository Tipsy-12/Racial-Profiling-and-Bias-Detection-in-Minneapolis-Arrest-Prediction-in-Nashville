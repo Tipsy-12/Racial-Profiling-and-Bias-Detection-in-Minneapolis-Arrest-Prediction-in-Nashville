{
  "cells": [
    {
      "metadata": {
        "_uuid": "357f7f07-3ba9-49d6-b191-b28ee13905dc",
        "_cell_guid": "fd0a1282-7eab-47f5-bf8e-2031dc8fed2d",
        "trusted": true,
        "id": "K4ZZJs3a3Ya7"
      },
      "cell_type": "markdown",
      "source": [
        "> In this kernel, we are going to visualize the **Minneapolis Police Interactions by Race**. Racism has been a problem for a very long time. Recent incidents have raised many questions on the police department of **Minneapolis**. In this report, we are goint to find out: Are the police in Minneapolis are Racially Biased?"
      ]
    },
    {
      "metadata": {
        "_uuid": "109b400a-e41a-4435-90df-4402871d3f57",
        "_cell_guid": "67134168-f7b3-4458-bc0e-6c8ee1b35e00",
        "trusted": true,
        "id": "YZp97pYz3Ya8"
      },
      "cell_type": "code",
      "source": [
        "import numpy as np\n",
        "import pandas as pd\n",
        "import plotly.express as px\n",
        "import plotly.graph_objects as go\n",
        "import seaborn as sb\n",
        "import matplotlib.pyplot as plt\n",
        "from wordcloud import WordCloud, ImageColorGenerator\n",
        "from matplotlib import rcParams\n",
        "rcParams['figure.figsize'] = (15, 8)\n",
        "\n",
        "#ignoring all the warnings because we don't need them\n",
        "import warnings\n",
        "warnings.filterwarnings('ignore')\n",
        "\n",
        "\n",
        "\n",
        "import os\n",
        "for dirname, _, filenames in os.walk('/kaggle/input'):\n",
        "    for filename in filenames:\n",
        "        print(os.path.join(dirname, filename))"
      ],
      "execution_count": null,
      "outputs": []
    },
    {
      "metadata": {
        "_uuid": "4845ea95-0c77-479b-9b18-6e18fef872ec",
        "_cell_guid": "b0b11889-fb56-4194-896f-de11cfb423ff",
        "trusted": true,
        "id": "Qrky15Ex3Ya-"
      },
      "cell_type": "markdown",
      "source": [
        "## Loading Data"
      ]
    },
    {
      "metadata": {
        "_uuid": "fc5a75e5-1f7f-4335-a8d4-b8e22d9d5587",
        "_cell_guid": "f4988b31-0fbd-47fe-84b1-c4e88f02a92a",
        "trusted": true,
        "_kg_hide-input": true,
        "id": "5vGtKeO03Ya-"
      },
      "cell_type": "code",
      "source": [
        "stop_data = pd.read_csv('../input/minneapolis-police-stops-and-police-violence/police_stop_data.csv')\n",
        "force_data = pd.read_csv('../input/minneapolis-police-stops-and-police-violence/police_use_of_force.csv')"
      ],
      "execution_count": null,
      "outputs": []
    },
    {
      "metadata": {
        "_uuid": "e7213d87-51fa-433f-91aa-35a9923de70f",
        "_cell_guid": "861f21b6-fc1a-477e-80e9-324b7172c29c",
        "trusted": true,
        "id": "PX0B5WdC3Ya_"
      },
      "cell_type": "markdown",
      "source": [
        "# Police Stop Data Analysis"
      ]
    },
    {
      "metadata": {
        "_uuid": "41115416-f730-4a4c-9f2f-1ecced27e684",
        "_cell_guid": "eef99ea8-2088-4b21-aca5-450ca28e5ce9",
        "trusted": true,
        "_kg_hide-input": true,
        "id": "UQHI5JkR3YbA"
      },
      "cell_type": "code",
      "source": [
        "stop_data.head(3)"
      ],
      "execution_count": null,
      "outputs": []
    },
    {
      "metadata": {
        "trusted": true,
        "_kg_hide-input": true,
        "id": "L7R0JH_r3YbB"
      },
      "cell_type": "code",
      "source": [
        "stop_data.tail(3)"
      ],
      "execution_count": null,
      "outputs": []
    },
    {
      "metadata": {
        "_uuid": "a327222d-2fab-4eb2-9080-d4567f4fa03f",
        "_cell_guid": "2d89f560-aea6-4457-beee-9dc213866be5",
        "trusted": true,
        "_kg_hide-input": true,
        "id": "99MNDOHB3YbC"
      },
      "cell_type": "code",
      "source": [
        "stop_data.shape"
      ],
      "execution_count": null,
      "outputs": []
    },
    {
      "metadata": {
        "_uuid": "a4cb1785-41f8-43ca-8cd9-5c62d79a5211",
        "_cell_guid": "bbc77cf3-161b-4e0a-ac3a-9695224f43bc",
        "trusted": true,
        "_kg_hide-input": true,
        "id": "ZSHHhmRa3YbD"
      },
      "cell_type": "code",
      "source": [
        "stop_data.info()"
      ],
      "execution_count": null,
      "outputs": []
    },
    {
      "metadata": {
        "_uuid": "302b51d0-522a-45a4-8442-848b4f47361c",
        "_cell_guid": "a7eda2d0-5f32-4c43-aa5b-f2ffbc42bf81",
        "trusted": true,
        "_kg_hide-input": true,
        "id": "TmubGGZM3YbE"
      },
      "cell_type": "code",
      "source": [
        "stop_data.describe()"
      ],
      "execution_count": null,
      "outputs": []
    },
    {
      "metadata": {
        "id": "AL-33Nso3YbE"
      },
      "cell_type": "markdown",
      "source": [
        "## Missing Data"
      ]
    },
    {
      "metadata": {
        "_uuid": "f701be30-9a93-406c-9d01-44a921ab0f3b",
        "_cell_guid": "a00addd5-3947-4667-9454-223320febe52",
        "trusted": true,
        "_kg_hide-input": true,
        "id": "_a8yorvD3YbF"
      },
      "cell_type": "code",
      "source": [
        "print(\"Missing Data\")\n",
        "miss_me = stop_data.isnull().sum()\n",
        "miss_me[miss_me>0]"
      ],
      "execution_count": null,
      "outputs": []
    },
    {
      "metadata": {
        "id": "M_CXrWUG3YbF"
      },
      "cell_type": "markdown",
      "source": [
        "## Numerical and Categorical Columns"
      ]
    },
    {
      "metadata": {
        "_uuid": "c1fc3a93-3fab-40cd-afd4-9c6f5cb5c6e3",
        "_cell_guid": "4ba6ae9d-7a16-4a86-ba68-3079d0f1a1fd",
        "trusted": true,
        "_kg_hide-input": true,
        "id": "gHu-jfHz3YbG"
      },
      "cell_type": "code",
      "source": [
        "numerical_cols = [col for col in stop_data.columns\n",
        "                  if stop_data[col].dtype!='object']\n",
        "\n",
        "print(f\"Numerical Columns:\\n{numerical_cols}\")"
      ],
      "execution_count": null,
      "outputs": []
    },
    {
      "metadata": {
        "trusted": true,
        "_kg_hide-input": true,
        "id": "JaXjyNfV3YbG"
      },
      "cell_type": "code",
      "source": [
        "categorical_cols = [col for col in stop_data.columns\n",
        "                    if stop_data[col].dtype=='object']\n",
        "\n",
        "print(f\"Categorical Columns:\\n{categorical_cols}\")"
      ],
      "execution_count": null,
      "outputs": []
    },
    {
      "metadata": {
        "id": "R__VOM903YbH"
      },
      "cell_type": "markdown",
      "source": [
        "# Data Visualization (Police Stop Data)"
      ]
    },
    {
      "metadata": {
        "id": "KhldUxuK3YbH"
      },
      "cell_type": "markdown",
      "source": [
        "## Demographic of Minneapolis"
      ]
    },
    {
      "metadata": {
        "trusted": true,
        "_kg_hide-input": true,
        "id": "3Zt-x_6i3YbK"
      },
      "cell_type": "code",
      "source": [
        "census_2010 = {'white': ['63.8'],\n",
        "        'black': ['18.6'],\n",
        "        'hispanic': ['10.5'],\n",
        "        'asian': ['5.6'],\n",
        "        'other': ['5.6'],\n",
        "        'american_indian': ['2.0']}\n",
        "\n",
        "census_2010_df = pd.DataFrame(census_2010, columns = ['white','black','hispanic','asian','other','american_indian']).transpose()\n",
        "census_2010_df.columns = ['Percentage of Population']\n",
        "census_2010_df['Percentage of Population'] = census_2010_df['Percentage of Population'].astype(float)"
      ],
      "execution_count": null,
      "outputs": []
    },
    {
      "metadata": {
        "trusted": true,
        "_kg_hide-input": true,
        "id": "HxTJejwN3YbL"
      },
      "cell_type": "code",
      "source": [
        "census_2010_df.style.background_gradient(cmap='Purples', subset=['Percentage of Population'])"
      ],
      "execution_count": null,
      "outputs": []
    },
    {
      "metadata": {
        "trusted": true,
        "_kg_hide-input": true,
        "id": "l15OoDjd3YbL"
      },
      "cell_type": "code",
      "source": [
        "# Bar Plot\n",
        "fig1 = px.bar(census_2010_df, x=census_2010_df.index,\n",
        "              y=census_2010_df['Percentage of Population'], color=census_2010_df.index,\n",
        "              color_discrete_sequence=px.colors.qualitative.Pastel)\n",
        "\n",
        "fig1.update_layout(title={\n",
        "                  'text': \"Demographics of Minneapolis City\",\n",
        "                  'y':0.98,\n",
        "                  'x':0.5,\n",
        "                  'xanchor': 'center',\n",
        "                  'yanchor': 'top'},\n",
        "                  template='ggplot2')\n",
        "\n",
        "# -----------------------------------------------------------\n",
        "\n",
        "# Pie Chart\n",
        "fig2 = px.pie(census_2010_df, census_2010_df.index,\n",
        "              census_2010_df['Percentage of Population'],\n",
        "              color_discrete_sequence=px.colors.qualitative.Pastel, hole=0.5)\n",
        "\n",
        "fig2.update_layout(title={\n",
        "                  'text': \"Demographics of Minneapolis City (Pie Chart)\",\n",
        "                  'y':0.98,\n",
        "                  'x':0.5,\n",
        "                  'xanchor': 'center',\n",
        "                  'yanchor': 'top'},\n",
        "                   height=600,\n",
        "                  template='plotly_white')\n",
        "\n",
        "fig2.update_traces(textposition='inside', textinfo='percent+label', pull=[0, 0.2])\n",
        "\n",
        "fig2.data[0].marker.line.width = 1\n",
        "fig2.data[0].marker.line.color = \"black\"\n",
        "\n",
        "fig1.show()\n",
        "fig2.show()"
      ],
      "execution_count": null,
      "outputs": []
    },
    {
      "metadata": {
        "id": "9IvNroUM3YbM"
      },
      "cell_type": "markdown",
      "source": [
        "<div style=\"color:white;\n",
        "           display:inline-block;\n",
        "           border-radius:5px;\n",
        "           background-color:#EC2566;\n",
        "           font-family:Verdana\">\n",
        "    <p style=\"color:white; padding:7px; font-size:110%;\">Here in the pie chart above, We can clearly see that 'black' people are in minority when compared to 'white' people but later on we will see that, 'black' people have significantly more number of stops by Police, which is alarming.\n",
        "    </p>\n",
        "</div>"
      ]
    },
    {
      "metadata": {
        "id": "bfBDSw4N3YbM"
      },
      "cell_type": "markdown",
      "source": [
        "## Police Stops by Race"
      ]
    },
    {
      "metadata": {
        "trusted": true,
        "_kg_hide-input": true,
        "id": "fMzIyBgv3YbN"
      },
      "cell_type": "code",
      "source": [
        "stop_data['race'].value_counts()"
      ],
      "execution_count": null,
      "outputs": []
    },
    {
      "metadata": {
        "trusted": true,
        "_kg_hide-input": true,
        "id": "MJWvNQaz3YbN"
      },
      "cell_type": "code",
      "source": [
        "# Bar Plot\n",
        "fig1 = px.bar(stop_data['race'].value_counts(), color_discrete_sequence=[px.colors.qualitative.Pastel])\n",
        "\n",
        "fig1.update_layout(title={\n",
        "                  'text': \"Minneapolis Police Stops by Race\",\n",
        "                  'y':0.98,\n",
        "                  'x':0.5,\n",
        "                  'xanchor': 'center',\n",
        "                  'yanchor': 'top'},\n",
        "                  template='ggplot2',\n",
        "                  xaxis_title=\"Race\",\n",
        "                  yaxis_title=\"Total Number\",\n",
        "                  showlegend=False\n",
        "                 )\n",
        "\n",
        "# -------------------------------------------------------------\n",
        "\n",
        "# Funnel Plot\n",
        "fig2 = px.funnel(stop_data['race'].value_counts(), color_discrete_sequence=[px.colors.qualitative.Pastel])\n",
        "fig2.update_layout(template='ggplot2', showlegend=False)\n",
        "\n",
        "fig1.show()\n",
        "fig2.show()"
      ],
      "execution_count": null,
      "outputs": []
    },
    {
      "metadata": {
        "id": "ch-TNUaj3YbO"
      },
      "cell_type": "markdown",
      "source": [
        "## Reason for Stop"
      ]
    },
    {
      "metadata": {
        "trusted": true,
        "_kg_hide-input": true,
        "id": "aY8LwoCj3YbO"
      },
      "cell_type": "code",
      "source": [
        "# Fill missing values with 'None'\n",
        "stop_data['reason'] = stop_data['reason'].fillna('None')\n",
        "\n",
        "stop_reason = stop_data['reason'].unique()\n",
        "\n",
        "print(\"Different Reasons for Stopping the vehicle:\")\n",
        "for x in stop_reason:\n",
        "    print(x)"
      ],
      "execution_count": null,
      "outputs": []
    },
    {
      "metadata": {
        "_kg_hide-input": true,
        "trusted": true,
        "id": "5GIy3ORH3YbO"
      },
      "cell_type": "code",
      "source": [
        "print(\"Total Number of Cases:\")\n",
        "stop_data['reason'].value_counts()"
      ],
      "execution_count": null,
      "outputs": []
    },
    {
      "metadata": {
        "_kg_hide-input": true,
        "trusted": true,
        "id": "AkQ-AAQa3YbP"
      },
      "cell_type": "code",
      "source": [
        "# Bar Chart\n",
        "fig1 = px.bar(stop_data['reason'].value_counts(), color_discrete_sequence=[px.colors.qualitative.Pastel])\n",
        "\n",
        "fig1.update_layout(title={\n",
        "                  'text': \"Reason for Police Stops\",\n",
        "                  'y':0.98,\n",
        "                  'x':0.5,\n",
        "                  'xanchor': 'center',\n",
        "                  'yanchor': 'top'},\n",
        "                  template='ggplot2',\n",
        "                  xaxis_title=\"Reason\",\n",
        "                  yaxis_title=\"Total Number\",\n",
        "                  showlegend=False\n",
        "                 )\n",
        "# ----------------------------------------------------\n",
        "\n",
        "# Pie Chart\n",
        "fig2 = px.pie(stop_data, stop_data['reason'],\n",
        "              color_discrete_sequence=px.colors.qualitative.Pastel, hole=0.3)\n",
        "\n",
        "fig2.update_layout(title={\n",
        "                  'text': \"Reasons for Police Stops (Pie Chart)\",\n",
        "                  'y':0.98,\n",
        "                  'x':0.5,\n",
        "                  'xanchor': 'center',\n",
        "                  'yanchor': 'top'},\n",
        "                   height=600,\n",
        "                  template='plotly_white')\n",
        "\n",
        "fig2.update_traces(textposition='inside', textinfo='percent+label', pull=(0.05))\n",
        "\n",
        "fig2.data[0].marker.line.width = 1\n",
        "fig2.data[0].marker.line.color = \"black\"\n",
        "\n",
        "fig1.show()\n",
        "fig2.show()"
      ],
      "execution_count": null,
      "outputs": []
    },
    {
      "metadata": {
        "id": "LeUXsPby3YbP"
      },
      "cell_type": "markdown",
      "source": [
        "## Problem Stated by Police"
      ]
    },
    {
      "metadata": {
        "_kg_hide-input": true,
        "trusted": true,
        "id": "A46w5nG-3YbQ"
      },
      "cell_type": "code",
      "source": [
        "fig = px.bar(stop_data['problem'].value_counts(), color_discrete_sequence=[px.colors.qualitative.Pastel])\n",
        "\n",
        "fig.update_layout(title={\n",
        "                  'text': \"Problem Stated by Police\",\n",
        "                  'y':0.98,\n",
        "                  'x':0.5,\n",
        "                  'xanchor': 'center',\n",
        "                  'yanchor': 'top'},\n",
        "                  template='ggplot2',\n",
        "                  xaxis_title=\"Problem\",\n",
        "                  yaxis_title=\"Total Number\",\n",
        "                  showlegend=False\n",
        "                 )\n",
        "\n",
        "fig.show()"
      ],
      "execution_count": null,
      "outputs": []
    },
    {
      "metadata": {
        "_kg_hide-input": true,
        "trusted": true,
        "id": "LXtoJVPT3YbQ"
      },
      "cell_type": "code",
      "source": [
        "problem_stop = stop_data.groupby('race')[['problem']].count().reset_index()\n",
        "problem_stop.sort_values(by='problem',  ascending=False).style.background_gradient(cmap='Reds', subset=['problem'])"
      ],
      "execution_count": null,
      "outputs": []
    },
    {
      "metadata": {
        "id": "MNHp2bKI3YbR"
      },
      "cell_type": "markdown",
      "source": [
        "<div style=\"color:white;\n",
        "           display:inline-block;\n",
        "           border-radius:5px;\n",
        "           background-color:#EC2566;\n",
        "           font-family:Verdana\">\n",
        "    <p style=\"color:white; padding:7px; font-size:110%;\">According to the above table derived from the official database of Minneapolis Police Department, we can clearly see that Police are more suspicious of Black people. Although Black people are only make 17.5% of total Minneapolis Residents. Hence, the numbers dont add up here and the picture of Racial Discrimination  is quite clear.\n",
        "    </p>\n",
        "</div>"
      ]
    },
    {
      "metadata": {
        "_kg_hide-input": true,
        "trusted": true,
        "id": "8cRIW3NQ3YbR"
      },
      "cell_type": "code",
      "source": [
        "fig1 = px.bar(problem_stop, problem_stop['race'],\n",
        "              problem_stop['problem'],\n",
        "              color_discrete_sequence = [px.colors.qualitative.Plotly])\n",
        "\n",
        "fig1.update_layout(title={\n",
        "                  'text': \"Problem based on Race\",\n",
        "                  'y':0.98,\n",
        "                  'x':0.5,\n",
        "                  'xanchor': 'center',\n",
        "                  'yanchor': 'top'},\n",
        "                  template='ggplot2',\n",
        "                  xaxis_title=\"Race\",\n",
        "                  yaxis_title=\"Problem\",\n",
        "                 )\n",
        "\n",
        "# ----------------------------------------------------\n",
        "\n",
        "fig2 = go.Figure(data=[go.Scatter(\n",
        "    x=problem_stop['race'], y=problem_stop['problem'],\n",
        "    mode='markers',\n",
        "    marker=dict(\n",
        "        color= px.colors.qualitative.Plotly,\n",
        "        size=[20, 140, 60, 50, 40, 30, 70, 90],\n",
        "    )\n",
        "    )])\n",
        "\n",
        "fig2.update_layout(template='ggplot2',\n",
        "                   xaxis_title='Race',\n",
        "                   yaxis_title='Problem')\n",
        "\n",
        "fig1.show()\n",
        "fig2.show()"
      ],
      "execution_count": null,
      "outputs": []
    },
    {
      "metadata": {
        "id": "houHRciQ3YbR"
      },
      "cell_type": "markdown",
      "source": [
        "## Call Disposition Word Cloud"
      ]
    },
    {
      "metadata": {
        "_kg_hide-input": true,
        "trusted": true,
        "id": "hYcHY0Qn3YbS"
      },
      "cell_type": "code",
      "source": [
        "word = stop_data['callDisposition']\n",
        "\n",
        "text = \" \".join(str(each) for each in word.unique())\n",
        "\n",
        "wordcloud = WordCloud(max_words=200, colormap='Set3', background_color=\"white\").generate(text)\n",
        "\n",
        "plt.figure(figsize=(17,10))\n",
        "\n",
        "plt.imshow(wordcloud, interpolation='Bilinear')\n",
        "\n",
        "plt.axis(\"off\")\n",
        "\n",
        "plt.figure(1,figsize=(12, 12))\n",
        "\n",
        "plt.title(\"Word Cloud of Call Disposition\", size=20)\n",
        "\n",
        "plt.show()"
      ],
      "execution_count": null,
      "outputs": []
    },
    {
      "metadata": {
        "id": "8Qac9MC63YbS"
      },
      "cell_type": "markdown",
      "source": [
        "## Person Search & Vehicle Search"
      ]
    },
    {
      "metadata": {
        "_kg_hide-input": true,
        "trusted": true,
        "id": "9KEug5o33YbS"
      },
      "cell_type": "code",
      "source": [
        "personSearch_df = stop_data[stop_data['personSearch'] == 'YES']\n",
        "\n",
        "search_person = personSearch_df.groupby('race')['personSearch'].count().reset_index()\n",
        "\n",
        "search_person.sort_values(by='personSearch', ascending=False).style.background_gradient(cmap='Oranges', subset=['personSearch'])"
      ],
      "execution_count": null,
      "outputs": []
    },
    {
      "metadata": {
        "_kg_hide-input": true,
        "trusted": true,
        "id": "R1rqUgsX3Ybe"
      },
      "cell_type": "code",
      "source": [
        "fig = px.pie(search_person, search_person['race'], search_person['personSearch'], color_discrete_sequence=px.colors.qualitative.Pastel)\n",
        "\n",
        "fig.update_layout(title={\n",
        "                  'text': \"Person Search based on Race\",\n",
        "                  'y':0.98,\n",
        "                  'x':0.5,\n",
        "                  'xanchor': 'center',\n",
        "                  'yanchor': 'top'},\n",
        "                   height=600,\n",
        "                  template='plotly_white')\n",
        "\n",
        "fig.update_traces(textposition='inside', textinfo='percent+label', pull=[0, 0.2])\n",
        "\n",
        "fig.data[0].marker.line.width = 1\n",
        "fig.data[0].marker.line.color = \"black\"\n",
        "\n",
        "fig.show()"
      ],
      "execution_count": null,
      "outputs": []
    },
    {
      "metadata": {
        "id": "lXT90qNh3Ybe"
      },
      "cell_type": "markdown",
      "source": [
        "<div style=\"color:white;\n",
        "           display:inline-block;\n",
        "           border-radius:5px;\n",
        "           background-color:#EC2566;\n",
        "           font-family:Verdana\">\n",
        "    <p style=\"color:white; padding:7px; font-size:110%;\">Above chart shows that, Black people are searched a lot more when compared to any other race. We should keep in mind that this data is only of Minneapolis where Black people are minority.\n",
        "    </p>\n",
        "</div>"
      ]
    },
    {
      "metadata": {
        "_kg_hide-input": true,
        "trusted": true,
        "id": "HnKg667T3Ybf"
      },
      "cell_type": "code",
      "source": [
        "vehicleSearch_df = stop_data[stop_data['vehicleSearch'] == 'YES']\n",
        "\n",
        "search_vehicle = vehicleSearch_df.groupby('race')['vehicleSearch'].count().reset_index()\n",
        "\n",
        "search_vehicle.sort_values(by='vehicleSearch', ascending=False).style.background_gradient(cmap='Oranges', subset=['vehicleSearch'])"
      ],
      "execution_count": null,
      "outputs": []
    },
    {
      "metadata": {
        "id": "XBUKFf5X3Ybf"
      },
      "cell_type": "markdown",
      "source": [
        "Well we are not at all surprised by this result. The picture is very clear. And we simply can not deny this after looking at all these visualizations. Police brutality and racism must be stopped."
      ]
    },
    {
      "metadata": {
        "_kg_hide-input": true,
        "trusted": true,
        "id": "dJzwdi203Ybf"
      },
      "cell_type": "code",
      "source": [
        "fig = px.pie(search_vehicle, search_vehicle['race'], search_vehicle['vehicleSearch'], color_discrete_sequence=px.colors.qualitative.Pastel)\n",
        "\n",
        "fig.update_layout(title={\n",
        "                  'text': \"Vehicle Search based on Race\",\n",
        "                  'y':0.98,\n",
        "                  'x':0.5,\n",
        "                  'xanchor': 'center',\n",
        "                  'yanchor': 'top'},\n",
        "                   height=600,\n",
        "                  template='plotly_white')\n",
        "\n",
        "fig.update_traces(textposition='inside', textinfo='percent+label', pull=[0, 0.2])\n",
        "\n",
        "fig.data[0].marker.line.width = 1\n",
        "fig.data[0].marker.line.color = \"black\"\n",
        "\n",
        "fig.show()"
      ],
      "execution_count": null,
      "outputs": []
    },
    {
      "metadata": {
        "id": "wbexYlWt3Ybg"
      },
      "cell_type": "markdown",
      "source": [
        "## Neighbourhood (Most Number of Police Stops)"
      ]
    },
    {
      "metadata": {
        "id": "RhaW5i-T3Ybg"
      },
      "cell_type": "markdown",
      "source": [
        "Neighbourhoods you are most likely to be pulled over by the Police."
      ]
    },
    {
      "metadata": {
        "trusted": true,
        "id": "-XATBWTy3Ybh"
      },
      "cell_type": "code",
      "source": [
        "stop_data['neighborhood'].nunique()"
      ],
      "execution_count": null,
      "outputs": []
    },
    {
      "metadata": {
        "_kg_hide-input": true,
        "trusted": true,
        "id": "fOu0xTng3Ybh"
      },
      "cell_type": "code",
      "source": [
        "stop_data['neighborhood'].value_counts().to_frame(name='# Police Stops').head(15).style.background_gradient(cmap='Blues', subset=['# Police Stops'])"
      ],
      "execution_count": null,
      "outputs": []
    },
    {
      "metadata": {
        "_kg_hide-input": true,
        "trusted": true,
        "id": "v2kBnfMp3Ybi"
      },
      "cell_type": "code",
      "source": [
        "fig = px.bar(stop_data['neighborhood'].value_counts(), color_discrete_sequence = px.colors.qualitative.Pastel)\n",
        "fig.update_layout(title={\n",
        "                  'text': \"# Police Stops in Different Neighbourhoods\",\n",
        "                  'y':0.98,\n",
        "                  'x':0.5,\n",
        "                  'xanchor': 'center',\n",
        "                  'yanchor': 'top'},\n",
        "                  template='ggplot2',\n",
        "                  xaxis_title=\"Neighbourhood\",\n",
        "                  yaxis_title=\"# Police Stops\",\n",
        "                  height=700,\n",
        "                  showlegend=False\n",
        "                 )"
      ],
      "execution_count": null,
      "outputs": []
    },
    {
      "metadata": {
        "id": "aNEngaLf3Ybi"
      },
      "cell_type": "markdown",
      "source": [
        "## Police Stops Based on Gender"
      ]
    },
    {
      "metadata": {
        "_kg_hide-input": true,
        "trusted": true,
        "id": "WsL3oI2O3Ybj"
      },
      "cell_type": "code",
      "source": [
        "fig = px.bar(stop_data['gender'].value_counts(), color_discrete_sequence = [px.colors.qualitative.Pastel])\n",
        "fig.update_layout(title={\n",
        "                  'text': \"Police Stops Based on Gender\",\n",
        "                  'y':0.98,\n",
        "                  'x':0.5,\n",
        "                  'xanchor': 'center',\n",
        "                  'yanchor': 'top'},\n",
        "                  template='ggplot2',\n",
        "                  xaxis_title=\"Gender\",\n",
        "                  yaxis_title=\"# Police Stops\",\n",
        "                  showlegend=False\n",
        "                 )\n",
        "fig.show()"
      ],
      "execution_count": null,
      "outputs": []
    },
    {
      "metadata": {
        "id": "cITO9pax3Ybj"
      },
      "cell_type": "markdown",
      "source": [
        "# Data Visualization (Police Use of Force)"
      ]
    },
    {
      "metadata": {
        "trusted": true,
        "_kg_hide-input": true,
        "id": "e5FYdYU-3Ybk"
      },
      "cell_type": "code",
      "source": [
        "force_data.head(3)"
      ],
      "execution_count": null,
      "outputs": []
    },
    {
      "metadata": {
        "_kg_hide-input": true,
        "trusted": true,
        "id": "KsbH5twJ3Ybk"
      },
      "cell_type": "code",
      "source": [
        "force_data.columns"
      ],
      "execution_count": null,
      "outputs": []
    },
    {
      "metadata": {
        "_kg_hide-input": true,
        "trusted": true,
        "id": "oZLL5FrK3Ybl"
      },
      "cell_type": "code",
      "source": [
        "force_data.info()"
      ],
      "execution_count": null,
      "outputs": []
    },
    {
      "metadata": {
        "_kg_hide-input": true,
        "trusted": true,
        "id": "VH8X3t-A3Ybl"
      },
      "cell_type": "code",
      "source": [
        "force_data.describe()"
      ],
      "execution_count": null,
      "outputs": []
    },
    {
      "metadata": {
        "id": "9zcmc0mH3Ybm"
      },
      "cell_type": "markdown",
      "source": [
        "## Minneapolis Police Violence by Race"
      ]
    },
    {
      "metadata": {
        "_kg_hide-input": true,
        "trusted": true,
        "id": "qx9Pkaed3Ybm"
      },
      "cell_type": "code",
      "source": [
        "fig = px.bar(force_data['Race'].value_counts(), color_discrete_sequence = [px.colors.qualitative.Pastel])\n",
        "\n",
        "fig.update_layout(title={\n",
        "                  'text': \"Police Violence by Race\",\n",
        "                  'y':0.98,\n",
        "                  'x':0.5,\n",
        "                  'xanchor': 'center',\n",
        "                  'yanchor': 'top'},\n",
        "                  template='ggplot2',\n",
        "                  xaxis_title=\"Race\",\n",
        "                  yaxis_title=\"# Police Violence\",\n",
        "                  showlegend=False\n",
        "                 )\n",
        "\n",
        "\n",
        "fig.show()"
      ],
      "execution_count": null,
      "outputs": []
    },
    {
      "metadata": {
        "id": "N9o5b2du3Ybn"
      },
      "cell_type": "markdown",
      "source": [
        "## Force Type by Police"
      ]
    },
    {
      "metadata": {
        "_kg_hide-input": true,
        "trusted": true,
        "id": "LIYHnChM3Ybn"
      },
      "cell_type": "code",
      "source": [
        "force_data['ForceType'].unique()"
      ],
      "execution_count": null,
      "outputs": []
    },
    {
      "metadata": {
        "_kg_hide-input": true,
        "trusted": true,
        "id": "-7AAUTTP3Ybn"
      },
      "cell_type": "code",
      "source": [
        "fig = px.pie(force_data, force_data['ForceType'], color_discrete_sequence=px.colors.qualitative.Pastel, hole=0.5)\n",
        "\n",
        "fig.update_layout(title={\n",
        "                  'text': \"Type of Force by Police\",\n",
        "                  'y':0.98,\n",
        "                  'x':0.5,\n",
        "                  'xanchor': 'center',\n",
        "                  'yanchor': 'top'},\n",
        "                   height=600,\n",
        "                  template='plotly_white')\n",
        "\n",
        "fig.update_traces(textposition='inside', textinfo='percent+label')\n",
        "\n",
        "fig.data[0].marker.line.width = 1\n",
        "fig.data[0].marker.line.color = \"black\"\n",
        "\n",
        "fig.show()"
      ],
      "execution_count": null,
      "outputs": []
    },
    {
      "metadata": {
        "id": "pO2NLekk3Ybo"
      },
      "cell_type": "markdown",
      "source": [
        "## Force Type by Police (Based on Race)"
      ]
    },
    {
      "metadata": {
        "_kg_hide-input": true,
        "trusted": true,
        "id": "BB54x1Jj3Ybo"
      },
      "cell_type": "code",
      "source": [
        "force_race = force_data.groupby(['Race'])[['ForceType']].count().reset_index()\n",
        "force_race.sort_values(by='ForceType', ascending=False).style.background_gradient(cmap='summer', subset=['ForceType'])"
      ],
      "execution_count": null,
      "outputs": []
    },
    {
      "metadata": {
        "_kg_hide-input": true,
        "trusted": true,
        "id": "HnteXFTN3Ybp"
      },
      "cell_type": "code",
      "source": [
        "fig = px.pie(force_race, force_race['Race'], force_race['ForceType'], color_discrete_sequence=px.colors.qualitative.Pastel, hole=0.5)\n",
        "\n",
        "fig.update_layout(title={\n",
        "                  'text': \"Force Type Based on Race\",\n",
        "                  'y':0.98,\n",
        "                  'x':0.5,\n",
        "                  'xanchor': 'center',\n",
        "                  'yanchor': 'top'},\n",
        "                   height=600,\n",
        "                  template='plotly_white')\n",
        "\n",
        "fig.update_traces(textposition='inside', textinfo='percent+label', pull=[0, 0.1])\n",
        "\n",
        "fig.data[0].marker.line.width = 2\n",
        "fig.data[0].marker.line.color = \"black\"\n",
        "\n",
        "fig.show()"
      ],
      "execution_count": null,
      "outputs": []
    },
    {
      "metadata": {
        "id": "SWoxL8-d3Ybp"
      },
      "cell_type": "markdown",
      "source": [
        "## Action of Force Type by Police"
      ]
    },
    {
      "metadata": {
        "_kg_hide-input": true,
        "trusted": true,
        "id": "vir2yx5O3Ybq"
      },
      "cell_type": "code",
      "source": [
        "force_data['ForceTypeAction'].unique()"
      ],
      "execution_count": null,
      "outputs": []
    },
    {
      "metadata": {
        "_kg_hide-input": true,
        "trusted": true,
        "id": "xRA1v55h3Ybq"
      },
      "cell_type": "code",
      "source": [
        "fig = px.bar(force_data['ForceTypeAction'].value_counts(), color_discrete_sequence = px.colors.qualitative.Pastel)\n",
        "\n",
        "fig.update_layout(title={\n",
        "                  'text': \"Action of Force Type\",\n",
        "                  'y':0.98,\n",
        "                  'x':0.5,\n",
        "                  'xanchor': 'center',\n",
        "                  'yanchor': 'top'},\n",
        "                  template='ggplot2',\n",
        "                  xaxis_title={'text': \"Action\"},\n",
        "                  yaxis_title=\"# Police Violence\",\n",
        "                  height=1000,\n",
        "                  showlegend=False\n",
        "                 )\n",
        "\n",
        "fig.show()"
      ],
      "execution_count": null,
      "outputs": []
    },
    {
      "metadata": {
        "id": "VTAnbF_E3Ybr"
      },
      "cell_type": "markdown",
      "source": [
        "<div style=\"color:white;\n",
        "           display:inline-block;\n",
        "           border-radius:5px;\n",
        "           background-color:#EC2566;\n",
        "           font-family:Verdana\">\n",
        "    <p style=\"color:white; padding:7px; font-size:110%;\">From the above bar chart, we can see that Police uses 'Body weight to pin' in most of the cases followed by 'Punches'. One thing that we should take a note here is that in action type 'Neck Restraint' fourteen (14) times the subject lost conciousness. This should be banned everywhere. There are other ways to restraint the subject.\n",
        "    </p>\n",
        "</div>"
      ]
    },
    {
      "metadata": {
        "id": "ps9D8eB73Ybr"
      },
      "cell_type": "markdown",
      "source": [
        "## Different types of Action used on White People"
      ]
    },
    {
      "metadata": {
        "_kg_hide-input": true,
        "trusted": true,
        "id": "28zyJ7ip3Ybs"
      },
      "cell_type": "code",
      "source": [
        "white_action = force_data[force_data['Race'] == 'White']\n",
        "fig = px.bar(white_action['ForceTypeAction'].value_counts(), color_discrete_sequence = px.colors.qualitative.Pastel)\n",
        "\n",
        "fig.update_layout(title={\n",
        "                  'text': \"Action of Force Type on White People\",\n",
        "                  'y':0.98,\n",
        "                  'x':0.5,\n",
        "                  'xanchor': 'center',\n",
        "                  'yanchor': 'top'},\n",
        "                  template='ggplot2',\n",
        "                  xaxis_title={'text': \"Action\"},\n",
        "                  yaxis_title=\"# Police Violence\",\n",
        "                  height=1000,\n",
        "                  showlegend=False\n",
        "                 )\n",
        "\n",
        "fig.show()"
      ],
      "execution_count": null,
      "outputs": []
    },
    {
      "metadata": {
        "_kg_hide-input": true,
        "trusted": true,
        "id": "XlOVtnZE3Ybs"
      },
      "cell_type": "code",
      "source": [
        "white_action['ForceTypeAction'].value_counts()"
      ],
      "execution_count": null,
      "outputs": []
    },
    {
      "metadata": {
        "_kg_hide-input": true,
        "trusted": true,
        "id": "cFeaJIVR3Ybt"
      },
      "cell_type": "code",
      "source": [
        "black_action = force_data[force_data['Race'] == 'Black']\n",
        "fig = px.bar(black_action['ForceTypeAction'].value_counts(), color_discrete_sequence = px.colors.qualitative.Pastel)\n",
        "\n",
        "fig.update_layout(title={\n",
        "                  'text': \"Action of Force Type on Black People\",\n",
        "                  'y':0.98,\n",
        "                  'x':0.5,\n",
        "                  'xanchor': 'center',\n",
        "                  'yanchor': 'top'},\n",
        "                  template='ggplot2',\n",
        "                  xaxis_title={'text': \"Action\"},\n",
        "                  yaxis_title=\"# Police Violence\",\n",
        "                  height=1000,\n",
        "                  showlegend=False\n",
        "                 )\n",
        "\n",
        "fig.show()"
      ],
      "execution_count": null,
      "outputs": []
    },
    {
      "metadata": {
        "_kg_hide-input": true,
        "trusted": true,
        "id": "eAErWJCD3Ybt"
      },
      "cell_type": "code",
      "source": [
        "black_action['ForceTypeAction'].value_counts()"
      ],
      "execution_count": null,
      "outputs": []
    },
    {
      "metadata": {
        "_kg_hide-input": true,
        "trusted": true,
        "id": "isJLBMqB3Ybu"
      },
      "cell_type": "code",
      "source": [
        "print(f\"Total number of unique Problems: {force_data['Problem'].nunique()}\")"
      ],
      "execution_count": null,
      "outputs": []
    },
    {
      "metadata": {
        "_kg_hide-input": true,
        "trusted": true,
        "id": "sfvF-V0J3Ybv"
      },
      "cell_type": "code",
      "source": [
        "fig = px.bar(force_data['Problem'].value_counts(), color_discrete_sequence = px.colors.qualitative.Pastel)\n",
        "\n",
        "fig.update_layout(title={\n",
        "                  'text': \"Problem Reported by Police\",\n",
        "                  'y':0.98,\n",
        "                  'x':0.5,\n",
        "                  'xanchor': 'center',\n",
        "                  'yanchor': 'top'},\n",
        "                  template='ggplot2',\n",
        "                  xaxis_title=\"Problem\",\n",
        "                  yaxis_title=\"Count\",\n",
        "                  height=700,\n",
        "                  showlegend=False\n",
        "                 )\n",
        "\n",
        "fig.show()"
      ],
      "execution_count": null,
      "outputs": []
    },
    {
      "metadata": {
        "id": "AEQqpmQE3Ybv"
      },
      "cell_type": "markdown",
      "source": [
        "## # Times Subject Was Injured?"
      ]
    },
    {
      "metadata": {
        "_kg_hide-input": true,
        "trusted": true,
        "id": "Ajf0I7i-3Ybw"
      },
      "cell_type": "code",
      "source": [
        "fig = px.pie(force_race, force_data['SubjectInjury'], color_discrete_sequence=px.colors.qualitative.Pastel, hole=0.5)\n",
        "\n",
        "fig.update_layout(title={\n",
        "                  'text': \"# Times Subject Was Injured\",\n",
        "                  'y':0.98,\n",
        "                  'x':0.5,\n",
        "                  'xanchor': 'center',\n",
        "                  'yanchor': 'top'},\n",
        "                   height=600,\n",
        "                  template='plotly_white')\n",
        "\n",
        "fig.update_traces(textposition='inside', textinfo='percent+label')\n",
        "\n",
        "fig.data[0].marker.line.width = 2\n",
        "fig.data[0].marker.line.color = \"black\"\n",
        "\n",
        "fig.show()"
      ],
      "execution_count": null,
      "outputs": []
    },
    {
      "metadata": {
        "id": "5fnD8Juq3Ybw"
      },
      "cell_type": "markdown",
      "source": [
        "## Force Used (Based on Gender)"
      ]
    },
    {
      "metadata": {
        "_kg_hide-input": true,
        "trusted": true,
        "id": "DunTLGju3Ybw"
      },
      "cell_type": "code",
      "source": [
        "fig = px.pie(force_data, force_data['Sex'], color_discrete_sequence=px.colors.qualitative.Pastel, hole=0.5)\n",
        "\n",
        "fig.update_layout(title={\n",
        "                  'text': \"Gender of Subject\",\n",
        "                  'y':0.98,\n",
        "                  'x':0.5,\n",
        "                  'xanchor': 'center',\n",
        "                  'yanchor': 'top'},\n",
        "                   height=600,\n",
        "                  template='plotly_white')\n",
        "\n",
        "fig.update_traces(textposition='inside', textinfo='percent+label')\n",
        "\n",
        "fig.data[0].marker.line.width = 2\n",
        "fig.data[0].marker.line.color = \"black\"\n",
        "\n",
        "fig.show()"
      ],
      "execution_count": null,
      "outputs": []
    },
    {
      "metadata": {
        "id": "aFX60vTI3Ybx"
      },
      "cell_type": "markdown",
      "source": [
        "## Age of Subject"
      ]
    },
    {
      "metadata": {
        "_kg_hide-input": true,
        "trusted": true,
        "id": "HTBm9OaS3Ybx"
      },
      "cell_type": "code",
      "source": [
        "fig = px.pie(force_data, force_data['EventAge'], color_discrete_sequence=px.colors.qualitative.Pastel, hole=0.6)\n",
        "\n",
        "fig.update_layout(title={\n",
        "                  'text': \"Age of Subject\",\n",
        "                  'y':0.98,\n",
        "                  'x':0.5,\n",
        "                  'xanchor': 'center',\n",
        "                  'yanchor': 'top'},\n",
        "                   height=600,\n",
        "                  template='plotly_white',\n",
        "                  showlegend=False)\n",
        "\n",
        "fig.update_traces(textposition='inside', textinfo='percent+label')\n",
        "\n",
        "fig.data[0].marker.line.width = 2\n",
        "fig.data[0].marker.line.color = \"black\"\n",
        "\n",
        "fig.show()"
      ],
      "execution_count": null,
      "outputs": []
    },
    {
      "metadata": {
        "id": "yBNWPUqw3Yby"
      },
      "cell_type": "markdown",
      "source": [
        "## Type of Resistance"
      ]
    },
    {
      "metadata": {
        "_kg_hide-input": true,
        "trusted": true,
        "id": "nKZfgfpR3Yby"
      },
      "cell_type": "code",
      "source": [
        "fig = px.bar(force_data['TypeOfResistance'].value_counts(), color_discrete_sequence = px.colors.qualitative.Pastel)\n",
        "\n",
        "fig.update_layout(title={\n",
        "                  'text': \"Type of Resistance by Subject\",\n",
        "                  'y':0.98,\n",
        "                  'x':0.5,\n",
        "                  'xanchor': 'center',\n",
        "                  'yanchor': 'top'},\n",
        "                  template='ggplot2',\n",
        "                  xaxis_title=\"Type\",\n",
        "                  yaxis_title=\"Count\",\n",
        "                  height=700,\n",
        "                  showlegend=False\n",
        "                 )\n",
        "\n",
        "fig.show()"
      ],
      "execution_count": null,
      "outputs": []
    },
    {
      "metadata": {
        "_kg_hide-input": true,
        "trusted": true,
        "id": "r9eIBNLn3Ybz"
      },
      "cell_type": "code",
      "source": [
        "fig = px.bar(force_data['Neighborhood'].value_counts(), color_discrete_sequence = px.colors.qualitative.Pastel)\n",
        "\n",
        "fig.update_layout(title={\n",
        "                  'text': \"Neighbourhood of Incident\",\n",
        "                  'y':0.98,\n",
        "                  'x':0.5,\n",
        "                  'xanchor': 'center',\n",
        "                  'yanchor': 'top'},\n",
        "                  template='ggplot2',\n",
        "                  xaxis_title=\"Neighbourhood\",\n",
        "                  yaxis_title=\"# of Incidents\",\n",
        "                  height=700,\n",
        "                  showlegend=False\n",
        "                 )\n",
        "\n",
        "fig.show()"
      ],
      "execution_count": null,
      "outputs": []
    },
    {
      "metadata": {
        "id": "QdBnSY9N3Ybz"
      },
      "cell_type": "markdown",
      "source": [
        "<div style=\"color:white;\n",
        "           display:inline-block;\n",
        "           border-radius:5px;\n",
        "           background-color:#EC2566;\n",
        "           font-family:Verdana\">\n",
        "    <p style=\"color:white; padding:7px; font-size:110%;\">We can again see that, most number of incidents occured in 'Downtown West' Area.\n",
        "    </p>\n",
        "</div>"
      ]
    }
  ],
  "metadata": {
    "kernelspec": {
      "language": "python",
      "display_name": "Python 3",
      "name": "python3"
    },
    "language_info": {
      "pygments_lexer": "ipython3",
      "nbconvert_exporter": "python",
      "version": "3.6.4",
      "file_extension": ".py",
      "codemirror_mode": {
        "name": "ipython",
        "version": 3
      },
      "name": "python",
      "mimetype": "text/x-python"
    },
    "colab": {
      "name": "🔴 Racial Biased Police & Violence:Minneapolis",
      "provenance": []
    }
  },
  "nbformat": 4,
  "nbformat_minor": 0
}